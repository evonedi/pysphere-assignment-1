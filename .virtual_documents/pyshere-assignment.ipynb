💡 Task:
# You're going to write a simple Python program that calculates Voltage (V) using Ohm’s Law:
# Ohm's Law Formula:🔹 V = I * R
 #Where:
# V is Voltage (in volts)
# I is Current (in amperes)
# R is Resistance (in ohms)











