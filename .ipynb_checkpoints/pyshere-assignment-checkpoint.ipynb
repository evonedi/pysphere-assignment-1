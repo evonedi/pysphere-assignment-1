{
 "cells": [
  {
   "cell_type": "code",
   "execution_count": 5,
   "id": "74099d46-2b4d-4ec8-8d83-e7fb60a8a6d9",
   "metadata": {},
   "outputs": [
    {
     "name": "stdin",
     "output_type": "stream",
     "text": [
      "Enter reissitance: 24\n",
      "Enter current: 5\n"
     ]
    },
    {
     "name": "stdout",
     "output_type": "stream",
     "text": [
      "V=  120\n"
     ]
    }
   ],
   "source": [
    "#💡 Task:\n",
    "# You're going to write a simple Python program that calculates Voltage (V) using Ohm’s Law:\n",
    "# Ohm's Law Formula:🔹 V = I * R\n",
    " #Where:\n",
    "# V is Voltage (in volts)\n",
    "# I is Current (in amperes)\n",
    "# R is Resistance (in ohms)\n",
    "\n",
    "R=int(input (\"Enter reissitance:\" ))\n",
    "I=int(input(\"Enter current:\" ))\n",
    "print(\"V= \", R*I)\n",
    "\n"
   ]
  },
  {
   "cell_type": "raw",
   "id": "46b99c0d-460f-4eda-b5bd-823597d69ce8",
   "metadata": {},
   "source": []
  },
  {
   "cell_type": "raw",
   "id": "2245d165-12d7-4248-a35a-24ff68fa232d",
   "metadata": {},
   "source": []
  },
  {
   "cell_type": "code",
   "execution_count": null,
   "id": "b7077096-ef96-4073-a9a0-70403169f171",
   "metadata": {},
   "outputs": [],
   "source": []
  }
 ],
 "metadata": {
  "kernelspec": {
   "display_name": "Python [conda env:base] *",
   "language": "python",
   "name": "conda-base-py"
  },
  "language_info": {
   "codemirror_mode": {
    "name": "ipython",
    "version": 3
   },
   "file_extension": ".py",
   "mimetype": "text/x-python",
   "name": "python",
   "nbconvert_exporter": "python",
   "pygments_lexer": "ipython3",
   "version": "3.12.7"
  }
 },
 "nbformat": 4,
 "nbformat_minor": 5
}
